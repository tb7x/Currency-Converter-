{
 "cells": [
  {
   "cell_type": "code",
   "execution_count": 2,
   "id": "6e361903-489a-426b-a972-7befa2d14eaa",
   "metadata": {},
   "outputs": [],
   "source": [
    "from dotenv import load_dotenv\n",
    "import requests\n",
    "import os\n",
    "import json"
   ]
  },
  {
   "cell_type": "code",
   "execution_count": 3,
   "id": "fd4c7532-e980-4591-b47d-3049d61b40f6",
   "metadata": {},
   "outputs": [
    {
     "data": {
      "text/plain": [
       "True"
      ]
     },
     "execution_count": 3,
     "metadata": {},
     "output_type": "execute_result"
    }
   ],
   "source": [
    "load_dotenv()"
   ]
  },
  {
   "cell_type": "code",
   "execution_count": 4,
   "id": "765c4746-5419-4569-b22a-f6625167e2de",
   "metadata": {},
   "outputs": [],
   "source": [
    "coin_market_cap_api = os.getenv(\"coin_market_cap_api\")"
   ]
  },
  {
   "cell_type": "code",
   "execution_count": 5,
   "id": "6c308421-9af0-4ecc-90c4-17f596069901",
   "metadata": {},
   "outputs": [
    {
     "data": {
      "text/plain": [
       "'51fd7cf5-403a-4b00-a311-38f0a052ef3e'"
      ]
     },
     "execution_count": 5,
     "metadata": {},
     "output_type": "execute_result"
    }
   ],
   "source": [
    "coin_market_cap_api "
   ]
  },
  {
   "cell_type": "code",
   "execution_count": 6,
   "id": "03638c02-eee2-490e-85b1-d89463d6b3f4",
   "metadata": {},
   "outputs": [],
   "source": [
    "url = 'https://pro-api.coinmarketcap.com/v1/cryptocurrency/map'"
   ]
  },
  {
   "cell_type": "code",
   "execution_count": 12,
   "id": "facea209-7612-4d3d-83d3-0e873f6989db",
   "metadata": {},
   "outputs": [],
   "source": [
    "parameters = {\n",
    "    'start':'1',\n",
    "    'limit':'5000',\n",
    "    'sort': 'id',\n",
    "    'convert':'USD'\n",
    "}\n"
   ]
  },
  {
   "cell_type": "code",
   "execution_count": 13,
   "id": "96a4789e-f521-4f3c-8fde-e4870e967336",
   "metadata": {},
   "outputs": [],
   "source": [
    "headers = {\n",
    "  'Accepts': 'application/json',\n",
    "  'X-CMC_PRO_API_KEY': os.getenv(\"coin_market_cap_api\"),\n",
    "}"
   ]
  },
  {
   "cell_type": "code",
   "execution_count": 9,
   "id": "4d31b471-d3db-4e3c-b9ae-4b43078655ae",
   "metadata": {},
   "outputs": [
    {
     "data": {
      "text/plain": [
       "10000"
      ]
     },
     "execution_count": 9,
     "metadata": {},
     "output_type": "execute_result"
    }
   ],
   "source": [
    "len(requests.get(url, headers=headers).json()['data'])"
   ]
  },
  {
   "cell_type": "code",
   "execution_count": 10,
   "id": "89e4aee6-4738-4699-8af7-170e942a6874",
   "metadata": {},
   "outputs": [
    {
     "ename": "KeyError",
     "evalue": "'data'",
     "output_type": "error",
     "traceback": [
      "\u001b[1;31m---------------------------------------------------------------------------\u001b[0m",
      "\u001b[1;31mKeyError\u001b[0m                                  Traceback (most recent call last)",
      "\u001b[1;32mC:\\Users\\STATIS~1\\AppData\\Local\\Temp/ipykernel_1864/3745955080.py\u001b[0m in \u001b[0;36m<module>\u001b[1;34m\u001b[0m\n\u001b[1;32m----> 1\u001b[1;33m \u001b[0mlen\u001b[0m\u001b[1;33m(\u001b[0m\u001b[0mrequests\u001b[0m\u001b[1;33m.\u001b[0m\u001b[0mget\u001b[0m\u001b[1;33m(\u001b[0m\u001b[0murl\u001b[0m\u001b[1;33m,\u001b[0m \u001b[0mparams\u001b[0m\u001b[1;33m=\u001b[0m\u001b[0mparameters\u001b[0m\u001b[1;33m,\u001b[0m \u001b[0mheaders\u001b[0m\u001b[1;33m=\u001b[0m\u001b[0mheaders\u001b[0m\u001b[1;33m)\u001b[0m\u001b[1;33m.\u001b[0m\u001b[0mjson\u001b[0m\u001b[1;33m(\u001b[0m\u001b[1;33m)\u001b[0m\u001b[1;33m[\u001b[0m\u001b[1;34m'data'\u001b[0m\u001b[1;33m]\u001b[0m\u001b[1;33m)\u001b[0m\u001b[1;33m\u001b[0m\u001b[1;33m\u001b[0m\u001b[0m\n\u001b[0m",
      "\u001b[1;31mKeyError\u001b[0m: 'data'"
     ]
    }
   ],
   "source": [
    "len(requests.get(url, params=parameters, headers=headers).json()['data'])"
   ]
  },
  {
   "cell_type": "code",
   "execution_count": 14,
   "id": "5779c2f0-5205-4997-bb99-ff1d5ce732b2",
   "metadata": {},
   "outputs": [
    {
     "name": "stdout",
     "output_type": "stream",
     "text": [
      "{\n",
      "    \"status\": {\n",
      "        \"credit_count\": 0,\n",
      "        \"elapsed\": 0,\n",
      "        \"error_code\": 400,\n",
      "        \"error_message\": \"\\\"convert\\\" is not allowed\",\n",
      "        \"timestamp\": \"2022-05-09T17:28:34.299Z\"\n",
      "    }\n",
      "}\n"
     ]
    }
   ],
   "source": [
    "data = requests.get(url, params=parameters, headers=headers).json()\n",
    "print(json.dumps(data, indent=4, sort_keys=True))"
   ]
  },
  {
   "cell_type": "code",
   "execution_count": 52,
   "id": "0c4acd20-8dbb-4cf4-9f99-1f6bbd3ce89d",
   "metadata": {},
   "outputs": [
    {
     "data": {
      "text/plain": [
       "10"
      ]
     },
     "execution_count": 52,
     "metadata": {},
     "output_type": "execute_result"
    }
   ],
   "source": [
    "len(data [\"data\"])"
   ]
  },
  {
   "cell_type": "code",
   "execution_count": 18,
   "id": "f057b852-f1a5-4672-a2e4-3e1f28855ed0",
   "metadata": {},
   "outputs": [
    {
     "name": "stdout",
     "output_type": "stream",
     "text": [
      "{\n",
      "    \"status\": {\n",
      "        \"timestamp\": \"2022-05-09T17:31:36.082Z\",\n",
      "        \"error_code\": 400,\n",
      "        \"error_message\": \"\\\"start\\\" is not allowed\",\n",
      "        \"elapsed\": 0,\n",
      "        \"credit_count\": 0\n",
      "    }\n",
      "}\n"
     ]
    }
   ],
   "source": [
    "from requests import Request, Session\n",
    "from requests.exceptions import ConnectionError, Timeout, TooManyRedirects\n",
    "import json\n",
    "\n",
    "url = 'https://sandbox-api.coinmarketcap.com/v1/cryptocurrency/quotes/latest'\n",
    "parameters = {\n",
    "  'start':'1',\n",
    "  'limit':'5000',\n",
    "  'convert':'USD'\n",
    "}\n",
    "headers = {\n",
    "  'Accepts': 'application/json',\n",
    "  'X-CMC_PRO_API_KEY': 'b54bcf4d-1bca-4e8e-9a24-22ff2c3d462c',\n",
    "}\n",
    "\n",
    "session = Session()\n",
    "session.headers.update(headers)\n",
    "\n",
    "try:\n",
    "    response = session.get(url, params=parameters)\n",
    "    data = json.loads(response.text)\n",
    "    print(json.dumps(data, indent = 4))\n",
    "except (ConnectionError, Timeout, TooManyRedirects) as e:\n",
    "    print(e)"
   ]
  },
  {
   "cell_type": "code",
   "execution_count": 41,
   "id": "a4ac9f2c-0444-4387-8d00-d2bf4239321b",
   "metadata": {},
   "outputs": [],
   "source": [
    "def get_price(name):\n",
    "    base_url = 'https://api.alternative.me/v2/ticker/'\n",
    "    url = base_url + name + '/?convert=USD'\n",
    "    response = requests.get(url).json()\n",
    "    key = list(response['data'].keys())[0]\n",
    "    price = response['data'][key]['quotes']['USD']['price']\n",
    "    return price\n",
    "\n",
    "def convert(amount, coin1, coin2):\n",
    "    coin1_price = get_price(coin1)\n",
    "    coin2_price = get_price(coin2)\n",
    "    value_usd1 = coin1_price * amount\n",
    "    value_usd2 = value_usd1 / coin2_price\n",
    "    return value_usd2"
   ]
  },
  {
   "cell_type": "code",
   "execution_count": 49,
   "id": "1940fd4a-6a7a-4544-876a-115b81c39b0e",
   "metadata": {},
   "outputs": [
    {
     "name": "stdin",
     "output_type": "stream",
     "text": [
      "Input the first coin BTC\n",
      "Input the second coin ETH\n",
      "Input the amount of the first coin 1\n"
     ]
    },
    {
     "ename": "IndexError",
     "evalue": "list index out of range",
     "output_type": "error",
     "traceback": [
      "\u001b[1;31m---------------------------------------------------------------------------\u001b[0m",
      "\u001b[1;31mIndexError\u001b[0m                                Traceback (most recent call last)",
      "\u001b[1;32mC:\\Users\\STATIS~1\\AppData\\Local\\Temp/ipykernel_1864/1569498994.py\u001b[0m in \u001b[0;36m<module>\u001b[1;34m\u001b[0m\n\u001b[0;32m      2\u001b[0m \u001b[0mcoin2\u001b[0m \u001b[1;33m=\u001b[0m \u001b[0minput\u001b[0m\u001b[1;33m(\u001b[0m\u001b[1;34m\"Input the second coin\"\u001b[0m\u001b[1;33m)\u001b[0m\u001b[1;33m\u001b[0m\u001b[1;33m\u001b[0m\u001b[0m\n\u001b[0;32m      3\u001b[0m \u001b[0mamount\u001b[0m \u001b[1;33m=\u001b[0m \u001b[0mfloat\u001b[0m\u001b[1;33m(\u001b[0m\u001b[0minput\u001b[0m\u001b[1;33m(\u001b[0m\u001b[1;34m\"Input the amount of the first coin\"\u001b[0m\u001b[1;33m)\u001b[0m\u001b[1;33m)\u001b[0m\u001b[1;33m\u001b[0m\u001b[1;33m\u001b[0m\u001b[0m\n\u001b[1;32m----> 4\u001b[1;33m \u001b[0mconvert\u001b[0m\u001b[1;33m(\u001b[0m\u001b[0mamount\u001b[0m\u001b[1;33m,\u001b[0m \u001b[0mcoin1\u001b[0m\u001b[1;33m,\u001b[0m \u001b[0mcoin2\u001b[0m\u001b[1;33m)\u001b[0m\u001b[1;33m\u001b[0m\u001b[1;33m\u001b[0m\u001b[0m\n\u001b[0m",
      "\u001b[1;32mC:\\Users\\STATIS~1\\AppData\\Local\\Temp/ipykernel_1864/3915349953.py\u001b[0m in \u001b[0;36mconvert\u001b[1;34m(amount, coin1, coin2)\u001b[0m\n\u001b[0;32m      8\u001b[0m \u001b[1;33m\u001b[0m\u001b[0m\n\u001b[0;32m      9\u001b[0m \u001b[1;32mdef\u001b[0m \u001b[0mconvert\u001b[0m\u001b[1;33m(\u001b[0m\u001b[0mamount\u001b[0m\u001b[1;33m,\u001b[0m \u001b[0mcoin1\u001b[0m\u001b[1;33m,\u001b[0m \u001b[0mcoin2\u001b[0m\u001b[1;33m)\u001b[0m\u001b[1;33m:\u001b[0m\u001b[1;33m\u001b[0m\u001b[1;33m\u001b[0m\u001b[0m\n\u001b[1;32m---> 10\u001b[1;33m     \u001b[0mcoin1_price\u001b[0m \u001b[1;33m=\u001b[0m \u001b[0mget_price\u001b[0m\u001b[1;33m(\u001b[0m\u001b[0mcoin1\u001b[0m\u001b[1;33m)\u001b[0m\u001b[1;33m\u001b[0m\u001b[1;33m\u001b[0m\u001b[0m\n\u001b[0m\u001b[0;32m     11\u001b[0m     \u001b[0mcoin2_price\u001b[0m \u001b[1;33m=\u001b[0m \u001b[0mget_price\u001b[0m\u001b[1;33m(\u001b[0m\u001b[0mcoin2\u001b[0m\u001b[1;33m)\u001b[0m\u001b[1;33m\u001b[0m\u001b[1;33m\u001b[0m\u001b[0m\n\u001b[0;32m     12\u001b[0m     \u001b[0mvalue_usd1\u001b[0m \u001b[1;33m=\u001b[0m \u001b[0mcoin1_price\u001b[0m \u001b[1;33m*\u001b[0m \u001b[0mamount\u001b[0m\u001b[1;33m\u001b[0m\u001b[1;33m\u001b[0m\u001b[0m\n",
      "\u001b[1;32mC:\\Users\\STATIS~1\\AppData\\Local\\Temp/ipykernel_1864/3915349953.py\u001b[0m in \u001b[0;36mget_price\u001b[1;34m(name)\u001b[0m\n\u001b[0;32m      3\u001b[0m     \u001b[0murl\u001b[0m \u001b[1;33m=\u001b[0m \u001b[0mbase_url\u001b[0m \u001b[1;33m+\u001b[0m \u001b[0mname\u001b[0m \u001b[1;33m+\u001b[0m \u001b[1;34m'/?convert=USD'\u001b[0m\u001b[1;33m\u001b[0m\u001b[1;33m\u001b[0m\u001b[0m\n\u001b[0;32m      4\u001b[0m     \u001b[0mresponse\u001b[0m \u001b[1;33m=\u001b[0m \u001b[0mrequests\u001b[0m\u001b[1;33m.\u001b[0m\u001b[0mget\u001b[0m\u001b[1;33m(\u001b[0m\u001b[0murl\u001b[0m\u001b[1;33m)\u001b[0m\u001b[1;33m.\u001b[0m\u001b[0mjson\u001b[0m\u001b[1;33m(\u001b[0m\u001b[1;33m)\u001b[0m\u001b[1;33m\u001b[0m\u001b[1;33m\u001b[0m\u001b[0m\n\u001b[1;32m----> 5\u001b[1;33m     \u001b[0mkey\u001b[0m \u001b[1;33m=\u001b[0m \u001b[0mlist\u001b[0m\u001b[1;33m(\u001b[0m\u001b[0mresponse\u001b[0m\u001b[1;33m[\u001b[0m\u001b[1;34m'data'\u001b[0m\u001b[1;33m]\u001b[0m\u001b[1;33m.\u001b[0m\u001b[0mkeys\u001b[0m\u001b[1;33m(\u001b[0m\u001b[1;33m)\u001b[0m\u001b[1;33m)\u001b[0m\u001b[1;33m[\u001b[0m\u001b[1;36m0\u001b[0m\u001b[1;33m]\u001b[0m\u001b[1;33m\u001b[0m\u001b[1;33m\u001b[0m\u001b[0m\n\u001b[0m\u001b[0;32m      6\u001b[0m     \u001b[0mprice\u001b[0m \u001b[1;33m=\u001b[0m \u001b[0mresponse\u001b[0m\u001b[1;33m[\u001b[0m\u001b[1;34m'data'\u001b[0m\u001b[1;33m]\u001b[0m\u001b[1;33m[\u001b[0m\u001b[0mkey\u001b[0m\u001b[1;33m]\u001b[0m\u001b[1;33m[\u001b[0m\u001b[1;34m'quotes'\u001b[0m\u001b[1;33m]\u001b[0m\u001b[1;33m[\u001b[0m\u001b[1;34m'USD'\u001b[0m\u001b[1;33m]\u001b[0m\u001b[1;33m[\u001b[0m\u001b[1;34m'price'\u001b[0m\u001b[1;33m]\u001b[0m\u001b[1;33m\u001b[0m\u001b[1;33m\u001b[0m\u001b[0m\n\u001b[0;32m      7\u001b[0m     \u001b[1;32mreturn\u001b[0m \u001b[0mprice\u001b[0m\u001b[1;33m\u001b[0m\u001b[1;33m\u001b[0m\u001b[0m\n",
      "\u001b[1;31mIndexError\u001b[0m: list index out of range"
     ]
    }
   ],
   "source": [
    "coin1 = input(\"Input the first coin\")\n",
    "coin2 = input(\"Input the second coin\")\n",
    "amount = float(input(\"Input the amount of the first coin\"))\n",
    "convert(amount, coin1, coin2)"
   ]
  },
  {
   "cell_type": "code",
   "execution_count": 33,
   "id": "60694bb6-7c05-4b00-90ce-f77b75d17a83",
   "metadata": {},
   "outputs": [],
   "source": [
    "key = list(response['data'].keys())[0]"
   ]
  },
  {
   "cell_type": "code",
   "execution_count": 34,
   "id": "d5bcb193-a6a2-4ead-870d-7070f47ef0bf",
   "metadata": {},
   "outputs": [
    {
     "data": {
      "text/plain": [
       "'1027'"
      ]
     },
     "execution_count": 34,
     "metadata": {},
     "output_type": "execute_result"
    }
   ],
   "source": [
    "key"
   ]
  },
  {
   "cell_type": "code",
   "execution_count": 38,
   "id": "6176491a-f7af-4b18-afce-aa94d80db145",
   "metadata": {},
   "outputs": [],
   "source": []
  },
  {
   "cell_type": "code",
   "execution_count": 39,
   "id": "d4b7c672-3b75-4f8f-a64b-bd60a016e5e8",
   "metadata": {},
   "outputs": [],
   "source": [
    "eth = convert(1, \"Bitcoin\", \"Ethereum\")"
   ]
  },
  {
   "cell_type": "code",
   "execution_count": 40,
   "id": "1030c679-de29-41cd-87ac-ef8db39b900e",
   "metadata": {},
   "outputs": [
    {
     "data": {
      "text/plain": [
       "13.619951801442527"
      ]
     },
     "execution_count": 40,
     "metadata": {},
     "output_type": "execute_result"
    }
   ],
   "source": [
    "eth"
   ]
  },
  {
   "cell_type": "code",
   "execution_count": 61,
   "id": "7903aaf8-e62a-41dd-892b-df7614f5bedd",
   "metadata": {},
   "outputs": [
    {
     "data": {
      "text/plain": [
       "31443.11377245509"
      ]
     },
     "execution_count": 61,
     "metadata": {},
     "output_type": "execute_result"
    }
   ],
   "source": [
    "import json\n",
    "with open('cryptocurrencies.json', 'r') as file:\n",
    "    data = json.loads(file.read())\n",
    "convert(1, data['BTC'], data['USDC'].lower().replace(\" \", \"-\"))"
   ]
  },
  {
   "cell_type": "code",
   "execution_count": null,
   "id": "ab91c7a0-8d03-4eff-ae59-94b7e5b26440",
   "metadata": {},
   "outputs": [],
   "source": []
  }
 ],
 "metadata": {
  "kernelspec": {
   "display_name": "Python 3 (ipykernel)",
   "language": "python",
   "name": "python3"
  },
  "language_info": {
   "codemirror_mode": {
    "name": "ipython",
    "version": 3
   },
   "file_extension": ".py",
   "mimetype": "text/x-python",
   "name": "python",
   "nbconvert_exporter": "python",
   "pygments_lexer": "ipython3",
   "version": "3.7.11"
  }
 },
 "nbformat": 4,
 "nbformat_minor": 5
}
